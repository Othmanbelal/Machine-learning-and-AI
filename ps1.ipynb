{
 "cells": [
  {
   "cell_type": "markdown",
   "metadata": {
    "cell_id": "f928605d75834c2099f98d8754a67754",
    "deepnote_cell_type": "markdown",
    "deletable": false,
    "nbgrader": {
     "cell_type": "markdown",
     "checksum": "0b1dcb9031019b2d3b8d5c44c50bf7c3",
     "grade": true,
     "grade_id": "cell-1fad288cbe7a1652",
     "locked": false,
     "points": 0,
     "schema_version": 3,
     "solution": true,
     "task": false
    }
   },
   "source": [
    "\n",
    "\n",
    "Group nr:  48\n",
    "\n",
    "Name 1 and CID: Soheb Kanon (CID) Soheb\n",
    "\n",
    "Name 2 and CID: Othman Belal (CID) Othmanb"
   ]
  },
  {
   "cell_type": "code",
   "execution_count": 1,
   "metadata": {
    "cell_id": "e31be5eb988146688003c224714f8c1c",
    "deepnote_cell_type": "code",
    "deepnote_to_be_reexecuted": false,
    "deletable": false,
    "editable": false,
    "execution_millis": 7971,
    "execution_start": 1694615089654,
    "nbgrader": {
     "cell_type": "code",
     "checksum": "36c183c6d07da2abcb5b2ec1ecf5b876",
     "grade": false,
     "grade_id": "cell-77a6b5001229b794",
     "locked": true,
     "schema_version": 3,
     "solution": false,
     "task": false
    },
    "source_hash": "69e8c592"
   },
   "outputs": [
    {
     "name": "stdout",
     "output_type": "stream",
     "text": [
      "Collecting pygame\n",
      "  Downloading pygame-2.5.1-cp310-cp310-manylinux_2_17_x86_64.manylinux2014_x86_64.whl (14.0 MB)\n",
      "\u001b[2K     \u001b[90m━━━━━━━━━━━━━━━━━━━━━━━━━━━━━━━━━━━━━━━━\u001b[0m \u001b[32m14.0/14.0 MB\u001b[0m \u001b[31m64.8 MB/s\u001b[0m eta \u001b[36m0:00:00\u001b[0m\n",
      "\u001b[?25hInstalling collected packages: pygame\n",
      "Successfully installed pygame-2.5.1\n",
      "\n",
      "\u001b[1m[\u001b[0m\u001b[34;49mnotice\u001b[0m\u001b[1;39;49m]\u001b[0m\u001b[39;49m A new release of pip is available: \u001b[0m\u001b[31;49m23.0.1\u001b[0m\u001b[39;49m -> \u001b[0m\u001b[32;49m23.2.1\u001b[0m\n",
      "\u001b[1m[\u001b[0m\u001b[34;49mnotice\u001b[0m\u001b[1;39;49m]\u001b[0m\u001b[39;49m To update, run: \u001b[0m\u001b[32;49mpip install --upgrade pip\u001b[0m\n",
      "pygame 2.5.1 (SDL 2.28.2, Python 3.10.12)\n",
      "Hello from the pygame community. https://www.pygame.org/contribute.html\n"
     ]
    }
   ],
   "source": [
    "!pip install pygame\n",
    "import numpy as np\n",
    "import pygame\n",
    "from IPython.display import Image\n",
    "from BalanceRobot import BalanceRobot\n"
   ]
  },
  {
   "cell_type": "code",
   "execution_count": 2,
   "metadata": {
    "cell_id": "5de1be86f2bd453da3823e1f30bdf2c8",
    "deepnote_cell_type": "code",
    "deepnote_to_be_reexecuted": false,
    "execution_millis": 37,
    "execution_start": 1694615097571,
    "source_hash": "b623e53d"
   },
   "outputs": [],
   "source": []
  },
  {
   "cell_type": "markdown",
   "metadata": {
    "cell_id": "dcf7e97908ad4a8693cb92220ff1b698",
    "deepnote_cell_type": "markdown",
    "deletable": false,
    "editable": false,
    "nbgrader": {
     "cell_type": "markdown",
     "checksum": "6f64b5f7757d3a034809a08549812051",
     "grade": false,
     "grade_id": "cell-cf1758871d51231a",
     "locked": true,
     "schema_version": 3,
     "solution": false,
     "task": false
    }
   },
   "source": [
    "## Introduction to Jupyter Notebook\n",
    "\n",
    "Jupyter Notebook is a web application that allows you to write code, text and equations in one file. Each code cell can be run individually, but often depend on variables defined in cells above it. This means when you first open the file you will need to run the code cells starting from the top.\n",
    "\n",
    "The text boxes are using Markdown format and to write the equations it uses LaTex format which can be initialized with \\\\$ on each side of the equation, e.g. $ax + b = c$. To edit a text box you double-click them and then to get back the normal text you can run the text box. To run a cell either use the play button on the top or ctrl enter. \n",
    "\n"
   ]
  },
  {
   "cell_type": "markdown",
   "metadata": {
    "cell_id": "97c7ca5913124e1382651923a4166aea",
    "deepnote_cell_type": "markdown",
    "deletable": false,
    "editable": false,
    "nbgrader": {
     "cell_type": "markdown",
     "checksum": "10e68ed2f34b79eb4ad8450826e602b3",
     "grade": false,
     "grade_id": "cell-97eb5d17798219e0",
     "locked": true,
     "schema_version": 3,
     "solution": false,
     "task": false
    }
   },
   "source": [
    "## Balance robot\n",
    "\n",
    "In this assignment, we will perform parameter estimation on a balancing robot. First, we will show how the equations of motion can be derived, some of the parameters in these equations will be unknown to us and linear regression will be used to estimate them. The linear regression method requires data to be collected, which will be collected while the robot is balancing with a control algorithm. Below we can see a drawing of the robot."
   ]
  },
  {
   "cell_type": "markdown",
   "metadata": {
    "cell_id": "0b5b40cda8e84c91baeaabee47ab67e1",
    "deepnote_cell_type": "markdown",
    "deletable": false,
    "editable": false,
    "nbgrader": {
     "cell_type": "markdown",
     "checksum": "9784d4b8a280a46012c89949d05b0a78",
     "grade": false,
     "grade_id": "cell-b12f08bf9184d784",
     "locked": true,
     "schema_version": 3,
     "solution": false,
     "task": false
    }
   },
   "source": [
    "\n",
    "<img src=\"BallanceRobot.png\" width=\"300\"/>"
   ]
  },
  {
   "cell_type": "markdown",
   "metadata": {
    "cell_id": "26cea61ea9c041c094dd6dc267c36a81",
    "deepnote_cell_type": "markdown",
    "deletable": false,
    "editable": false,
    "nbgrader": {
     "cell_type": "markdown",
     "checksum": "56d118daa55972a1e1ff3156101d8061",
     "grade": false,
     "grade_id": "cell-b3467d8f3ea787b6",
     "locked": true,
     "schema_version": 3,
     "solution": false,
     "task": false
    }
   },
   "source": [
    "| Parameter | Description | To be estimated |\n",
    "| --- | --- | --- |\n",
    "| $m_1$ | Mass of main body [kg]| Yes |\n",
    "| $l$ | Distance from wheel hub to $m_1$ [m] | Yes |\n",
    "| $I_1$ | Moment of inertia for main body [kg $\\textrm{m}^2$]| Yes |\n",
    "| $m_2$ | Mass of wheels [kg]| No |\n",
    "| $r$ | Radious of wheels [m]| No |\n",
    "| $I_2$ | Moment of inertia for of wheels [kg $\\textrm{m}^2$]| No |\n",
    "\n",
    "| State | Description | \n",
    "| --- | --- |\n",
    "| $\\alpha_1$ | Angle of main body [rad]| \n",
    "| $\\alpha_2$ | Angle of wheel from position 0 [rad]|\n",
    "| $x_1$ | Position of $m_1$ in x-axis for main body [m]|\n",
    "| $y_1$ | Position of $m_1$ in y-axis for main body [m]|\n",
    "| $x_2$ | Position of $m_2$ in x-axis for wheel [m]|\n",
    "\n"
   ]
  },
  {
   "cell_type": "markdown",
   "metadata": {
    "cell_id": "9b896bc82553410ca33b1d350ae5eaa3",
    "deepnote_cell_type": "markdown",
    "deletable": false,
    "editable": false,
    "nbgrader": {
     "cell_type": "markdown",
     "checksum": "33a6177a2e7f9a1b03979ef6a70b906d",
     "grade": false,
     "grade_id": "cell-2929926407d54e62",
     "locked": true,
     "schema_version": 3,
     "solution": false,
     "task": false
    }
   },
   "source": [
    "## Equations of motion\n",
    "\n",
    "Here we show one way to calculate the equations of motion for the system. To do this we will use the Euler-Lagrange method which builds on finding the stationary solution between the kinetic and potential energy of the system. "
   ]
  },
  {
   "cell_type": "markdown",
   "metadata": {
    "cell_id": "db3dfa772d3e4144aa9330032f450c43",
    "deepnote_cell_type": "markdown",
    "deletable": false,
    "editable": false,
    "nbgrader": {
     "cell_type": "markdown",
     "checksum": "b28fbcad7c8c0a130da1d014e2a92fb6",
     "grade": false,
     "grade_id": "cell-586cc7eb1686fffa",
     "locked": true,
     "schema_version": 3,
     "solution": false,
     "task": false
    }
   },
   "source": [
    "We start with setting up the kinematic relationships. We define $(x_1, y_1)$ to be the position for the centre of mass of the main body and $x_2$ the position of the wheels, both with respect to the coordinate frame. The kinematics equations for the system then become:\n",
    "\n",
    "$x_2 = - \\alpha_2 r$\n",
    "\n",
    "$x_1 = - \\alpha_2 r - l sin(\\alpha_1)$\n",
    "\n",
    "$y_1 = r + l cos(\\alpha_1)$\n",
    "\n",
    "$\\dot{x}_1 = - r \\dot{\\alpha}_2 - l cos(\\alpha_1) \\dot{\\alpha_1}$\n",
    "\n",
    "$\\dot{y}_1 = -l sin(\\alpha_1) \\dot{\\alpha}_1$\n",
    "\n",
    "$\\dot{x}_2 = - r \\dot{\\alpha}_2 $ \n",
    "\n",
    "Potential Energy for the system:\n",
    "\n",
    "$V = l cos(\\alpha_1)m_1g$\n",
    "\n",
    "Kinematic energy:\n",
    "\n",
    "$T = \\frac{1}{2} m_1 (\\dot{x}^2_1 + \\dot{y}^2_1) + \\frac{1}{2} m_2 \\dot{x}^2_2 + \\frac{1}{2} I_1 \\dot{\\alpha}^2_1 + \\frac{1}{2} I_2 \\dot{\\alpha}_2^2$\n",
    "\n",
    "From these the equations of motion for the balance robot can be calculated, here we use the Euler Lagrange method. First the Lagrangian is calculated by: \n",
    "\n",
    "$L = T - V$\n",
    "\n",
    "and becomes:\n",
    "\n",
    "$L = \\frac{1}{2} m_1 (r^2 \\dot{\\alpha}^2_2 + 2 r \\dot{\\alpha}_2 l cos(\\alpha_1) \\dot{\\alpha_1} + l^2  \\dot{\\alpha}_1^2) +\n",
    "\\frac{1}{2} m_2 r^2 \\dot{\\alpha}_2^2 + \\frac{1}{2} I_1 \\dot{\\alpha}^2_1 + \\frac{1}{2} I_2 \\dot{\\alpha}_2^2 -l cos(\\alpha_1)m_1g$"
   ]
  },
  {
   "cell_type": "markdown",
   "metadata": {
    "cell_id": "7ba518958f8f4b4c845089f238b57d55",
    "deepnote_cell_type": "markdown",
    "deletable": false,
    "editable": false,
    "nbgrader": {
     "cell_type": "markdown",
     "checksum": "266d93af52c934fb657c89b8cd11310c",
     "grade": false,
     "grade_id": "cell-7e23cbef14d36ce1",
     "locked": true,
     "schema_version": 3,
     "solution": false,
     "task": false
    }
   },
   "source": [
    "Euler Lagrange equation is defined by: \n",
    "\n",
    "$\\frac{d}{dt}(\\frac{\\partial L }{\\partial \\dot{q}_i}) - \\frac{\\partial L }{\\partial q_i} = Q_i$\n",
    "\n",
    "Where $q_1 = \\alpha_1$, $q_2 = \\alpha_2$, and $Q_i$ represent external force, in our case, the external force is the torque $M$ generated by the motors between the main body and the wheels. "
   ]
  },
  {
   "cell_type": "markdown",
   "metadata": {
    "cell_id": "66bad302d74c435fb24e03dfac35bc85",
    "deepnote_cell_type": "markdown",
    "deletable": false,
    "editable": false,
    "nbgrader": {
     "cell_type": "markdown",
     "checksum": "6bde795e974660f39d2e86a6bcbf2520",
     "grade": false,
     "grade_id": "cell-3778d4dc026776e0",
     "locked": true,
     "schema_version": 3,
     "solution": false,
     "task": false
    }
   },
   "source": [
    "The equations of motion after simplification becomes:\n",
    "\n",
    "$M = m_1 r \\ddot{\\alpha}_2 l cos(\\alpha_1) + m_1 l^2 \\ddot{\\alpha}_1 + I_1 \\ddot{\\alpha}_1  - lsin(\\alpha_1)m_1g$\n",
    "\n",
    "and\n",
    "\n",
    "$-M =  m_1 r^2 \\ddot{\\alpha}_2 + m_1 rlcos(\\alpha_1) \\ddot{\\alpha}_1 - m_1 rlsin(\\alpha_1)\\dot{\\alpha}_1^2 + m_2 r^2 \\ddot{\\alpha}_2 + I_2 \\ddot{\\alpha}_2$"
   ]
  },
  {
   "cell_type": "markdown",
   "metadata": {
    "cell_id": "aded1e25b1274c4bb1baf8cd78454ca3",
    "deepnote_cell_type": "markdown",
    "deletable": false,
    "editable": false,
    "nbgrader": {
     "cell_type": "markdown",
     "checksum": "6e2598fd3841de3509d3f5aa9e8dad30",
     "grade": false,
     "grade_id": "cell-6cc3bcd2ec72233e",
     "locked": true,
     "schema_version": 3,
     "solution": false,
     "task": false
    }
   },
   "source": [
    "## Exersise 1:\n",
    "\n",
    "To perform parameter identification with linear regression the equations need to be reformulated to the form $ \\mathbf{y} = \\mathbf{X}^T \\mathbf{\\theta}$, where $\\mathbf{y}$ is a vector with 2 elements, $\\mathbf{X}$ is a matrix and the vector $\\mathbf{\\theta}$ will be estimated using regression. There are 3 parameters we want to estimate, $m_1$, $l$ and $I_1$, all other parameters can be assumed to be known. Rewrite the two equations of motion to the form $ y = X^T \\theta $ so that $m_1$, $l$ and $I_1$ can be extracted from $\\theta$. \n",
    "\n",
    "Hint: It might not be possible to linearize the equations so that $\\theta$ directly has the parameters $m_1$, $l$, $I_1$ by themselves, i.e. $\\theta = [m_1, l, I_1]^T$, but instead it might contain combinations of the parameters from which we later can calculate the values of $m_1$, $l$, $I_1$. \n"
   ]
  },
  {
   "cell_type": "markdown",
   "metadata": {
    "cell_id": "706f287e00b0454ba01e62aa926958dd",
    "deepnote_cell_type": "markdown",
    "deletable": false,
    "nbgrader": {
     "cell_type": "markdown",
     "checksum": "4b29f8eb8e250d2518606845bf97303f",
     "grade": true,
     "grade_id": "cell-7dfd278a10ab2d5e",
     "locked": false,
     "points": 1,
     "schema_version": 3,
     "solution": true,
     "task": false
    }
   },
   "source": [
    "\n",
    "Answer:\n",
    "\n",
    "$\\left[ \\begin{array}{c}\n",
    " M\\\\\n",
    " -M-(m_2r^2+I_2)\\ddot{\\alpha}_2\\\\\n",
    "\\end{array} \\right] = \n",
    "\\left[ \\begin{array}{ccc}\n",
    " 0 &  r \\ddot{\\alpha}_2 l cos(\\alpha_1) - gsin(\\alpha_1)& \\ddot{\\alpha}_1 \\\\ \n",
    "    r^2\\ddot{\\alpha}_2  & rcos({\\alpha}_1)\\ddot{\\alpha}_1 -rsin({\\alpha}_1)\\dot{\\alpha}_1^2  & 0 \\end{array} \\right]\n",
    "\\left[ \\begin{array}{c}\n",
    "  m_1\\\\\n",
    "  m_1l\\\\\n",
    "  m_1l^2+I_1\\\\\n",
    "\\end{array} \\right]$\n",
    "\n",
    "\n"
   ]
  },
  {
   "cell_type": "markdown",
   "metadata": {
    "cell_id": "25b48d2adc6e418eaf8565d8a155d655",
    "deepnote_cell_type": "markdown",
    "deletable": false,
    "editable": false,
    "nbgrader": {
     "cell_type": "markdown",
     "checksum": "ce36c3df4e44cc31a653acc01eb9a105",
     "grade": false,
     "grade_id": "cell-f51c25b2969700c9",
     "locked": true,
     "schema_version": 3,
     "solution": false,
     "task": false
    }
   },
   "source": [
    "## Simulator\n",
    "\n",
    "For those interested, the equations of motion are not only interesting for parameter identification but can also be used to build a simulator for the system. The equations of motion are rewritten to a form where the state of the robot is easier to integrate.\n",
    "\n",
    "$ \\ddot{\\alpha}_2   = \\frac{-M -m_1 rlcos(\\alpha_1) (M + lm_1gsin(\\alpha_1)) / (m_1 l^2 + I_1) + m_1 rlsin(\\alpha_1)\\dot{\\alpha}_1^2}{(m_1 r^2  - m_1^2 r^2 l^2 cos^2(\\alpha_1)/ (m_1 l^2 + I_1) + m_2 r^2 + I_2)} $\n",
    "\n",
    "$\\ddot{\\alpha}_1  = (M -  m_1 r \\ddot{\\alpha}_2 l cos(\\alpha_1) + lm_1gsin(\\alpha_1)) / (m_1 l^2 + I_1)$\n",
    "\n",
    "From these equations, we can simulate the robot by either integrating accelerations with a fixed time step to get the velocity and positions or we can use a differential solver e.g. runge-kutta 45.  "
   ]
  },
  {
   "cell_type": "markdown",
   "metadata": {
    "cell_id": "56e54316720c40b991b0baba643ca1f6",
    "deepnote_cell_type": "markdown",
    "deletable": false,
    "editable": false,
    "nbgrader": {
     "cell_type": "markdown",
     "checksum": "653bfc0a2e13aca9b15989162d713371",
     "grade": false,
     "grade_id": "cell-7d5d0e59ac5f88c4",
     "locked": true,
     "schema_version": 3,
     "solution": false,
     "task": false
    }
   },
   "source": [
    "## Controller\n",
    "The robot is essentially an inverted pendilum on wheels, without a controller it will fall. The controller which can be seen below keeps the robot upright and moves it towords a referrence position on the x-axis. In the update function, there is a $\\textit{pos_ref}$ variable that determines the reference signal for the controller, and will later be modified.  "
   ]
  },
  {
   "cell_type": "markdown",
   "metadata": {
    "cell_id": "d09f188fedb141ceb457d811ce8c4795",
    "deepnote_cell_type": "markdown",
    "deletable": false,
    "editable": false,
    "nbgrader": {
     "cell_type": "markdown",
     "checksum": "bba7d40c6881d12e12f4449e3b025c73",
     "grade": false,
     "grade_id": "cell-3d8502be777a6564",
     "locked": true,
     "schema_version": 3,
     "solution": false,
     "task": false
    }
   },
   "source": [
    "<img src=\"Controller.png\" width=\"500\"/>"
   ]
  },
  {
   "cell_type": "code",
   "execution_count": 2,
   "metadata": {
    "cell_id": "1bca81cb4b9b4162ba4c86d950d1393a",
    "deepnote_cell_type": "code",
    "deepnote_to_be_reexecuted": false,
    "deletable": false,
    "execution_millis": 28,
    "execution_start": 1694615097581,
    "nbgrader": {
     "cell_type": "code",
     "checksum": "f8b7d723a3e28fef1543dc01dd7d5672",
     "grade": true,
     "grade_id": "cell-4e008882c930b18b",
     "locked": false,
     "points": 0,
     "schema_version": 3,
     "solution": true,
     "task": false
    },
    "source_hash": "b00b4fae"
   },
   "outputs": [],
   "source": [
    "class Controller(object):\n",
    "    def __init__(self, dt, init_states):\n",
    "        self.dt = dt\n",
    "        # controller parameter for position controller\n",
    "        self.K_pos = 3\n",
    "        self.D_pos = 0.5\n",
    "        # controller parameter for angle controller\n",
    "        self.K_ang = 10\n",
    "        self.I_ang = 1\n",
    "        self.D_ang = 1\n",
    "        # limit the maximum allowed reference angle\n",
    "        self.max_angle = 0.8\n",
    "        # variables for the integrator in the PID controller\n",
    "        self.angle_int = 0\n",
    "    \n",
    "    def update(self, t, states): \n",
    "        # The update function will be called on every timestep and return the torque for the motors. \n",
    "        \n",
    "        # The position reference to follow\n",
    "        # ----------------------------------------------------------------\n",
    "        pos_ref =  0.2*np.sin(t*2)\n",
    "        # ----------------------------------------------------------------\n",
    "        \n",
    "        # PD controller for position\n",
    "        err = self.K_pos*(pos_ref - states['pos']) - self.D_pos * states['vel']\n",
    "        # The error is used as a reference angle, with upper and lower bounds. \n",
    "        ref_ang = -np.clip(err, -self.max_angle, self.max_angle)\n",
    "        self.angle_int += self.dt * (ref_ang - states['a1'])\n",
    "        # PID controller for the angle, generates the desired motor torque. \n",
    "        M = self.K_ang*(ref_ang-states['a1']) + self.I_ang*self.angle_int - self.D_ang*states['da1']\n",
    "    \n",
    "        return M\n"
   ]
  },
  {
   "cell_type": "markdown",
   "metadata": {
    "cell_id": "bf5ba9018f254996a241b9ce0540a62b",
    "deepnote_cell_type": "markdown",
    "deletable": false,
    "editable": false,
    "nbgrader": {
     "cell_type": "markdown",
     "checksum": "c575600ab3452d9aaa012d457e3f598d",
     "grade": false,
     "grade_id": "cell-69299d868a034041",
     "locked": true,
     "schema_version": 3,
     "solution": false,
     "task": false
    }
   },
   "source": [
    "## Data collection\n",
    "\n",
    "We need to collect data before we can do any regression on the problem. The data is collected when the robot is following a position reference signal. In the code below the data is collected in vectors, e.g. $\\textrm{da1} = [\\dot{\\alpha}_1(t_0), \\dot{\\alpha}_1(t_1), ... , \\dot{\\alpha}_1(t_n)]$ and so on. The known parameters are g, r, m2 and I2. \n",
    "\n",
    "There are two variables you can change:\n",
    "\n",
    "scale_noise: which scales the added noise to the measurements. \n",
    "\n",
    "sim_speed: which allows you to run the simulation faster then realtime. \n"
   ]
  },
  {
   "cell_type": "code",
   "execution_count": 3,
   "metadata": {
    "cell_id": "df7d88db4a0e4e089e1fbebb7505b39a",
    "deepnote_cell_type": "code",
    "deepnote_to_be_reexecuted": false,
    "execution_millis": 17,
    "execution_start": 1694615097640,
    "source_hash": "b26dc215"
   },
   "outputs": [
    {
     "ename": "ModuleNotFoundError",
     "evalue": "No module named 'pygame'",
     "output_type": "error",
     "traceback": [
      "\u001b[0;31m---------------------------------------------------------------------------\u001b[0m",
      "\u001b[0;31mModuleNotFoundError\u001b[0m                       Traceback (most recent call last)",
      "Cell \u001b[0;32mIn [1], line 1\u001b[0m\n\u001b[0;32m----> 1\u001b[0m \u001b[38;5;28;01mimport\u001b[39;00m \u001b[38;5;21;01mpygame\u001b[39;00m\n\u001b[1;32m      2\u001b[0m \u001b[38;5;28;01mimport\u001b[39;00m \u001b[38;5;21;01mnumpy\u001b[39;00m \u001b[38;5;28;01mas\u001b[39;00m \u001b[38;5;21;01mnp\u001b[39;00m\n\u001b[1;32m      4\u001b[0m \u001b[38;5;28;01mclass\u001b[39;00m \u001b[38;5;21;01mRender\u001b[39;00m(\u001b[38;5;28mobject\u001b[39m):\n",
      "\u001b[0;31mModuleNotFoundError\u001b[0m: No module named 'pygame'"
     ]
    }
   ],
   "source": [
    "import pygame\n",
    "import numpy as np\n",
    "\n",
    "class Render(object):\n",
    "    def __init__(self, caption, resolution=(1000, 1000)):\n",
    "        self.window = pygame.display.set_mode(resolution)\n",
    "        pygame.display.set_caption(caption)\n",
    "        self.w = resolution[0]\n",
    "        self.h = resolution[1]\n",
    "        self.render_layers = dict()\n",
    "        self.clock = pygame.time.Clock()\n",
    "\n",
    "    def add_object(self, key, layer, obj):\n",
    "        # check if layer exists in dict, layer and key should be strings.\n",
    "        if layer not in self.render_layers:\n",
    "            self.render_layers[layer] = dict()\n",
    "        self.render_layers[layer][key] = obj\n",
    "\n",
    "    def remove_object(self, key):\n",
    "        for i, (layer, value) in enumerate(self.render_layers.items()):\n",
    "            if key in value:\n",
    "                self.render_layers[layer].pop(key, None)\n",
    "                return\n",
    "\n",
    "    def check_key_exists(self, key, layer=None):\n",
    "        if layer is None:\n",
    "            for i, (layer, value) in enumerate(self.render_layers):\n",
    "                if key in value:\n",
    "                    return True\n",
    "        else:\n",
    "            for v in self.render_layers[layer]:\n",
    "                if key in v:\n",
    "                    return True\n",
    "        return False\n",
    "\n",
    "    def get_layer(self, layer):\n",
    "        if layer not in self.render_layers:\n",
    "            return dict()\n",
    "        return self.render_layers[layer]\n",
    "\n",
    "    def get_object(self, key):\n",
    "        for i, (layer, value) in enumerate(self.render_layers.items()):\n",
    "            if key in value:\n",
    "                return self.render_layers[layer][key], layer\n",
    "        return None, None\n",
    "\n",
    "    def update_object(self, obj, key, layer=None):\n",
    "        if layer is None:\n",
    "            for i, (layer, value) in enumerate(self.render_layers.items()):\n",
    "                if key in value:\n",
    "                    self.render_layers[layer][key] = obj\n",
    "        self.render_layers[layer][key] = obj\n",
    "\n",
    "    def update_window(self, fps=None):\n",
    "        self.window.fill((100, 100, 100))\n",
    "        for i, (layer, value) in enumerate(self.render_layers.items()):\n",
    "            for j, (key, obj) in enumerate(value.items()):\n",
    "                self.window.blit(obj.get_rot_surface(), obj.get_pos())\n",
    "        pygame.display.update()\n",
    "        if fps is not None:\n",
    "            self.clock.tick(fps)\n",
    "\n",
    "    def get_resolution(self):\n",
    "        return self.w, self.h\n",
    "\n",
    "    def get_main_window(self):\n",
    "        return self.window\n",
    "\n",
    "\n",
    "class RenderObject(object):\n",
    "    def __init__(self, surf, x, y):\n",
    "        '''\n",
    "        :param surf:\n",
    "        :param x: Horizontal (top left (0,0))\n",
    "        :param y: Vertical\n",
    "        '''\n",
    "        self.surf = surf\n",
    "        self.rot_surf = surf\n",
    "        self.x = x\n",
    "        self.y = y\n",
    "        self.pos = self.surf.get_rect(center=(x, y))\n",
    "        self.angle = 0\n",
    "\n",
    "    def set_angle(self, angle):\n",
    "        self.angle = 180*angle/np.pi\n",
    "\n",
    "    def get_rot_surface(self):\n",
    "        self.rot_surf = pygame.transform.rotate(self.surf, self.angle)\n",
    "        return self.rot_surf\n",
    "\n",
    "    def get_surface(self):\n",
    "        return self.surf\n",
    "\n",
    "    def update_surface(self, surface):\n",
    "        self.surf = surface\n",
    "\n",
    "    def get_pos(self):\n",
    "        return self.rot_surf.get_rect(center=(self.x, self.y))\n",
    "\n",
    "    def get_pos_xy(self):\n",
    "        return self.x, self.y\n",
    "\n",
    "    def set_pos(self, x, y):\n",
    "        self.x = x\n",
    "        self.y = y\n"
   ]
  },
  {
   "cell_type": "code",
   "execution_count": 4,
   "metadata": {
    "cell_id": "2dc1d5cf25fc46b09a320a84cfeabf82",
    "deepnote_cell_type": "code",
    "deepnote_to_be_reexecuted": false,
    "execution_millis": 4968,
    "execution_start": 1694615097641,
    "source_hash": "f6c26fd4"
   },
   "outputs": [
    {
     "name": "stdout",
     "output_type": "stream",
     "text": [
      "Requirement already satisfied: pygame==2.5.1 in /root/venv/lib/python3.10/site-packages (2.5.1)\n",
      "\n",
      "\u001b[1m[\u001b[0m\u001b[34;49mnotice\u001b[0m\u001b[1;39;49m]\u001b[0m\u001b[39;49m A new release of pip is available: \u001b[0m\u001b[31;49m23.0.1\u001b[0m\u001b[39;49m -> \u001b[0m\u001b[32;49m23.2.1\u001b[0m\n",
      "\u001b[1m[\u001b[0m\u001b[34;49mnotice\u001b[0m\u001b[1;39;49m]\u001b[0m\u001b[39;49m To update, run: \u001b[0m\u001b[32;49mpip install --upgrade pip\u001b[0m\n"
     ]
    }
   ],
   "source": [
    "!pip install pygame==2.5.1"
   ]
  },
  {
   "cell_type": "code",
   "execution_count": 5,
   "metadata": {
    "cell_id": "f7955235dd4e42b1a57d65dfe4aa01bd",
    "deepnote_cell_type": "code",
    "deepnote_to_be_reexecuted": false,
    "execution_millis": 17,
    "execution_start": 1694615102615,
    "source_hash": "aae6839e"
   },
   "outputs": [
    {
     "name": "stdout",
     "output_type": "stream",
     "text": [
      "pygame 2.5.1 (SDL 2.28.2, Python 3.10.11)\n",
      "Hello from the pygame community. https://www.pygame.org/contribute.html\n"
     ]
    }
   ],
   "source": [
    "import numpy as np\n",
    "from scipy.integrate import solve_ivp\n",
    "import pygame_render\n",
    "import pygame\n",
    "\n",
    "def flatten(t):\n",
    "    return [item for sublist in t for item in sublist]\n",
    "\n",
    "\n",
    "class BalanceRobot():\n",
    "    def __init__(self, dt, sim_speed=1):\n",
    "        self.p = {'r': 0.05,\n",
    "                  'l': 0.15,\n",
    "                  'm1': 0.5,\n",
    "                  'm2': 0.1,\n",
    "                  'g': 9.81,\n",
    "                  'I1': 0.006,\n",
    "                  'I2': 0.002}\n",
    "\n",
    "        self.canvas_w = 1\n",
    "        self.canvas_h = 1\n",
    "        self.step_time = dt\n",
    "        self.y0 = [0, 0.001, 0, 0]\n",
    "        self.render = pygame_render.Render(caption='Balance robot')\n",
    "        self.w, self.h = self.render.get_resolution()\n",
    "        self.frame_rate = 30\n",
    "        self.fac = self.frame_rate*self.step_time/sim_speed\n",
    "\n",
    "        self.frame_nr = 0\n",
    "        w_px = int(0.08*self.w*self.canvas_w)\n",
    "        l_px = int(2*self.p['l']*self.h*self.canvas_h)\n",
    "        self.r_px = int(self.p['r'] * self.h * self.canvas_h)\n",
    "        b_h = 800\n",
    "        b_w = 800\n",
    "\n",
    "        surf = pygame.Surface((b_w, b_h), pygame.SRCALPHA)\n",
    "        points = [((b_w-w_px)//2, b_w//2), ((b_w-w_px)//2, (b_h-l_px)//2),\n",
    "                  ((b_w+w_px)//2, (b_h-l_px)//2), ((b_w+w_px)//2, b_w//2)]\n",
    "        _ = pygame.draw.polygon(surface=surf, color=(200, 200, 200, 150), points=points)\n",
    "        self.body = pygame_render.RenderObject(surf=surf, x=self.w//2, y=self.h-self.r_px)\n",
    "\n",
    "        self.render.add_object(key='body', layer='1', obj=self.body)\n",
    "\n",
    "        surf2 = pygame.Surface((b_w, b_h), pygame.SRCALPHA)\n",
    "        _ = pygame.draw.circle(surface=surf2, color=(255, 150, 150, 150), center=(b_w//2, b_h//2),\n",
    "                               radius=int(self.p['r']*self.h))\n",
    "        _ = pygame.draw.line(surface=surf2, color=(0, 0, 0, 150), start_pos=(b_w//2-int(self.p['r']*self.h), b_h//2),\n",
    "                             end_pos=(b_w // 2 + int(self.p['r']*self.h), b_h // 2), width=3)\n",
    "\n",
    "        self.wheel = pygame_render.RenderObject(surf=surf2, x=self.w//2, y=self.h-self.r_px)\n",
    "        self.render.add_object(key='wheel', layer='2', obj=self.wheel)\n",
    "\n",
    "\n",
    "    def step(self, torque):\n",
    "        disturbance = np.random.normal(0, 0.0)\n",
    "        dx = self.balance_sim(0, self.y0, torque)\n",
    "\n",
    "        sol = solve_ivp(fun=self.balance_sim, t_span=[0, self.step_time], y0=self.y0, method='RK45',\n",
    "                        args=[torque],\n",
    "                        dense_output=False, t_eval=[self.step_time])\n",
    "\n",
    "\n",
    "        self.y0 = flatten(sol.y)\n",
    "\n",
    "        # for rendering only\n",
    "        self.body.set_angle(self.y0[1])\n",
    "        x = -int(self.y0[3] * self.p['r'] * self.w)\n",
    "        self.body.set_pos(x=self.w//2 + x, y=self.h-self.r_px)\n",
    "        self.wheel.set_angle(self.y0[3])\n",
    "        self.wheel.set_pos(x=self.w//2 + x, y=self.h-self.r_px)\n",
    "        if (self.frame_nr*self.fac)%1 > (1-self.fac/2) or (self.frame_nr*self.fac)%1 < (self.fac/2):\n",
    "            self.render.update_window(fps=self.frame_rate)\n",
    "        self.frame_nr += 1\n",
    "        return dx[0], dx[2]\n",
    "\n",
    "    def get_state(self):\n",
    "        pos = -self.p['r'] * self.y0[3] - self.p['l'] * np.sin(self.y0[1])\n",
    "        vel = -self.p['r'] * self.y0[2] - self.p['l'] * np.cos(self.y0[1]) * self.y0[0]\n",
    "        states = {'da1': self.y0[0],\n",
    "                  'a1': self.y0[1],\n",
    "                  'da2': self.y0[2],\n",
    "                  'a2': self.y0[3],\n",
    "                  'vel': vel,\n",
    "                  'pos': pos}\n",
    "        return states\n",
    "\n",
    "    def balance_sim(self, t, X, M):\n",
    "        # X = [do1, o1, do2, o2]\n",
    "        do1 = X[0]\n",
    "        o1 = X[1]\n",
    "        do2 = X[2]\n",
    "        o2 = X[3]\n",
    "        r = self.p['r']\n",
    "        l = self.p['l']\n",
    "        m1 = self.p['m1']\n",
    "        m2 = self.p['m2']\n",
    "        g = self.p['g']\n",
    "        I1 = self.p['I1']\n",
    "        I2 = self.p['I2']\n",
    "\n",
    "        ddo2 = (-M - (m1*r*l*np.cos(o1) * (M + l*m1*g*np.sin(o1))/(m1*(l**2)+I1)) + m1*r*l*np.sin(o1)*(do1**2)) / \\\n",
    "               (m1*r**2 - ((r*l*m1*np.cos(o1))**2)/(m1*l**2 + I1) + m2*r**2 + I2)\n",
    "\n",
    "        ddo1 = (M - m1*r*ddo2*l*np.cos(o1) + m1*g*l*np.sin(o1))/(m1*l**2 + I1)\n",
    "        dX = [ddo1, do1, ddo2, do2]\n",
    "        return dX\n",
    "\n",
    "\n"
   ]
  },
  {
   "cell_type": "code",
   "execution_count": 6,
   "metadata": {
    "cell_id": "0d6d4f269eb04e04b059a59c9f14ff3c",
    "deepnote_cell_type": "code",
    "deepnote_to_be_reexecuted": false,
    "deletable": false,
    "execution_millis": 9944,
    "execution_start": 1694615102634,
    "nbgrader": {
     "cell_type": "code",
     "checksum": "520977d6aa07e000740949f604715469",
     "grade": true,
     "grade_id": "cell-c42a98b9f91b559f",
     "locked": false,
     "points": 0,
     "schema_version": 3,
     "solution": true,
     "task": false
    },
    "source_hash": "4cbc317d"
   },
   "outputs": [
    {
     "ename": "NameError",
     "evalue": "name 'BalanceRobot' is not defined",
     "output_type": "error",
     "traceback": [
      "\u001b[0;31m---------------------------------------------------------------------------\u001b[0m",
      "\u001b[0;31mNameError\u001b[0m                                 Traceback (most recent call last)",
      "Cell \u001b[0;32mIn [5], line 16\u001b[0m\n\u001b[1;32m     13\u001b[0m step_time \u001b[38;5;241m=\u001b[39m \u001b[38;5;241m1e-2\u001b[39m\n\u001b[1;32m     15\u001b[0m \u001b[38;5;66;03m# Initiate the robot\u001b[39;00m\n\u001b[0;32m---> 16\u001b[0m robot \u001b[38;5;241m=\u001b[39m \u001b[43mBalanceRobot\u001b[49m(dt\u001b[38;5;241m=\u001b[39mstep_time, sim_speed\u001b[38;5;241m=\u001b[39msim_speed)\n\u001b[1;32m     17\u001b[0m \u001b[38;5;28;01mtry\u001b[39;00m:\n\u001b[1;32m     18\u001b[0m     \u001b[38;5;66;03m# True parameters in the robot.\u001b[39;00m\n\u001b[1;32m     19\u001b[0m     g \u001b[38;5;241m=\u001b[39m robot\u001b[38;5;241m.\u001b[39mp[\u001b[38;5;124m\"\u001b[39m\u001b[38;5;124mg\u001b[39m\u001b[38;5;124m\"\u001b[39m] \u001b[38;5;66;03m# gravity.\u001b[39;00m\n",
      "\u001b[0;31mNameError\u001b[0m: name 'BalanceRobot' is not defined"
     ]
    }
   ],
   "source": [
    "## scale_noise, keep at 1 until later, change it later in exercise 7. \n",
    "# It controls the amount of noise applied to the measurements\n",
    "\n",
    "# ----------------------------------------------------------------\n",
    "scale_noise = 0.5\n",
    "# ----------------------------------------------------------------\n",
    "\n",
    "## Simulation speed, increase it for faster than real-time simulation.\n",
    "sim_speed = 1\n",
    "\n",
    "# number of steps and step size to run the simulation/data collection\n",
    "n_steps = 1000\n",
    "step_time = 1e-2\n",
    "\n",
    "# Initiate the robot\n",
    "robot = BalanceRobot(dt=step_time, sim_speed=sim_speed)\n",
    "try:\n",
    "    # True parameters in the robot.\n",
    "    g = robot.p[\"g\"] # gravity.\n",
    "    r = robot.p[\"r\"] # radius of wheel.\n",
    "    m2 = robot.p[\"m2\"] # mass of wheel.\n",
    "    I2 = robot.p[\"I2\"] # moment of intertia of wheel.\n",
    "\n",
    "    # Initate the controller \n",
    "    state = robot.get_state()\n",
    "    controller = Controller(dt=step_time, init_states=state)\n",
    "\n",
    "    da1 = np.zeros(n_steps)\n",
    "    a1 = np.zeros(n_steps)\n",
    "    da2 = np.zeros(n_steps)\n",
    "    a2 = np.zeros(n_steps)\n",
    "    dda1 = np.zeros(n_steps)\n",
    "    dda2 = np.zeros(n_steps)\n",
    "    M = np.zeros(n_steps)\n",
    "\n",
    "    ## Main loop \n",
    "\n",
    "    for i in range(n_steps):\n",
    "        # calculate time\n",
    "        t = i*step_time\n",
    "        # calculate torque \n",
    "        state = robot.get_state()\n",
    "        M_ = controller.update(t, state)\n",
    "        # step one time step for robot simulation\n",
    "        dda1_, dda2_ = robot.step(torque=M_)\n",
    "\n",
    "        ## Add noice to data\n",
    "        da1[i] = state['da1'] + np.random.normal(0.0, scale_noise*0.02) # d/dt alpha 1\n",
    "        a1[i] = state['a1'] + np.random.normal(0.0, scale_noise*0.03) # alpha 1\n",
    "        da2[i] = state['da2'] + np.random.normal(0.0, scale_noise*0.02) # d/dt alpha 2\n",
    "        a2[i] = state['a2'] + np.random.normal(0.0, scale_noise*0.03) # alpha 2\n",
    "        dda1[i] = dda1_ + np.random.normal(0.0, scale_noise*0.01) # d^2/dt^2 alpha 1\n",
    "        dda2[i] = dda2_ + np.random.normal(0.0, scale_noise*0.01) # d^2/dt^2 alpha 2\n",
    "        M[i] = M_ + np.random.normal(0.0, scale_noise*0.05) # torque \n",
    "\n",
    "    pygame.quit()\n",
    "except:\n",
    "    pygame.quit()\n"
   ]
  },
  {
   "cell_type": "markdown",
   "metadata": {
    "cell_id": "ca0f6f21c9c0413996958b834909fd0e",
    "deepnote_cell_type": "markdown",
    "deletable": false,
    "editable": false,
    "nbgrader": {
     "cell_type": "markdown",
     "checksum": "4d600428ae64501e2dde84b979fbd1d8",
     "grade": false,
     "grade_id": "cell-dafb2ec13e63af7d",
     "locked": true,
     "schema_version": 3,
     "solution": false,
     "task": false
    }
   },
   "source": [
    "For the first test, we set the position reference signal to be a sinusoidal shape, e.g. $\\textit{pos_ref} = 0.2 \\sin(2t)$. What would we expect to happen if we used a constant reference signal, i.e. $\\textit{pos_ref} = 0$, instead? Which of the two reference signal would we expect to give better parameter estimation and why? \n",
    "\n"
   ]
  },
  {
   "cell_type": "markdown",
   "metadata": {
    "cell_id": "d1c9e9bda55c472b9d7f6b36b595076f",
    "deepnote_cell_type": "markdown",
    "deletable": false,
    "nbgrader": {
     "cell_type": "markdown",
     "checksum": "a14e2dc48d758f00afeef0e439f9be5a",
     "grade": true,
     "grade_id": "cell-e2010a3449eeff0d",
     "locked": false,
     "points": 1,
     "schema_version": 3,
     "solution": true,
     "task": false
    }
   },
   "source": [
    "Answer: \n",
    "When we use a constant value e.g 0, 1 , 2, 3 we get the system to act like a statik system in which makes the equations to be unable to give an accurate estimation for the values we seek to estimate. On the other hand using the position reference signal such as 0.2sin(2t) makes the system a dynamic system which is a good condition for our equation of motion in order to get much more accurate estimations. \n",
    "\n"
   ]
  },
  {
   "cell_type": "markdown",
   "metadata": {
    "cell_id": "5f894dfb198e4f5c98f1bc82d7b75b99",
    "deepnote_cell_type": "markdown",
    "deletable": false,
    "editable": false,
    "nbgrader": {
     "cell_type": "markdown",
     "checksum": "39a6a78b254c0645b4e347f209e609c2",
     "grade": false,
     "grade_id": "cell-bd88a728048691d3",
     "locked": true,
     "schema_version": 3,
     "solution": false,
     "task": false
    }
   },
   "source": [
    "## Exercise 3: Linear regression \n",
    "\n",
    "Use linear regression to estimate the parameters $m_1$, $l$ and $I_1$. You have access to the vectors da1, da, da2, a2, dda1, dda2 and M, and you can use the variables g, r, m2 and I2.    "
   ]
  },
  {
   "cell_type": "code",
   "execution_count": 7,
   "metadata": {
    "cell_id": "7ea56d86d6fe458d987248a9d1b85f7f",
    "deepnote_cell_type": "code",
    "deepnote_to_be_reexecuted": false,
    "execution_millis": 38,
    "execution_start": 1694615112587,
    "source_hash": "98557863"
   },
   "outputs": [
    {
     "ename": "ValueError",
     "evalue": "operands could not be broadcast together with shapes (4,4) (3,3) ",
     "output_type": "error",
     "traceback": [
      "\u001b[0;31m---------------------------------------------------------------------------\u001b[0m",
      "\u001b[0;31mValueError\u001b[0m                                Traceback (most recent call last)",
      "Cell \u001b[0;32mIn [8], line 16\u001b[0m\n\u001b[1;32m     14\u001b[0m matrix_tran \u001b[38;5;241m=\u001b[39m np\u001b[38;5;241m.\u001b[39mtranspose(matrix_x)\n\u001b[1;32m     15\u001b[0m matrix_x_mul \u001b[38;5;241m=\u001b[39m np\u001b[38;5;241m.\u001b[39mmatmul(matrix_x,matrix_tran)\n\u001b[0;32m---> 16\u001b[0m sum_mat_x_nul_xtran \u001b[38;5;241m=\u001b[39m \u001b[43msum_mat_x_nul_xtran\u001b[49m\u001b[43m \u001b[49m\u001b[38;5;241;43m+\u001b[39;49m\u001b[43m \u001b[49m\u001b[43mmatrix_x_mul\u001b[49m\n\u001b[1;32m     18\u001b[0m matrix_xy_mul \u001b[38;5;241m=\u001b[39m np\u001b[38;5;241m.\u001b[39mmatmul(matrix_x,matrix_y)\n\u001b[1;32m     19\u001b[0m sum_mat_x_nul_y \u001b[38;5;241m=\u001b[39m sum_mat_x_nul_y \u001b[38;5;241m+\u001b[39m matrix_xy_mul\n",
      "\u001b[0;31mValueError\u001b[0m: operands could not be broadcast together with shapes (4,4) (3,3) "
     ]
    }
   ],
   "source": [
    "sum_mat_x_nul_xtran = np.zeros((3, 3))\n",
    "sum_mat_x_nul_y = np.zeros(3)\n",
    "\n",
    "# frågan är ska man använda cross multiplication (np.mul) eller dot production (np.dot)\n",
    "\n",
    "\n",
    "for i in range(n_steps):\n",
    "    matrix_x = np.array([[0, 0.0025 * dda2[i]],\n",
    "                         [0.05 * dda2[i] * np.cos(a1[i]) - 9.81 * np.sin(a1[i]), 0.05 * dda1[i] * np.cos(a1[i]) - 0.05 * np.sin(a1[i]) * (da1[i] ** 2)],\n",
    "                         [dda1[i], 0]])\n",
    "    matrix_y = np.array([M[i], -M[i]-0.00225 * dda2[i]])# jag måste fixa det\n",
    "    \n",
    "    \n",
    "    matrix_tran = np.transpose(matrix_x)\n",
    "    matrix_x_mul = np.dot(matrix_x,matrix_tran)\n",
    "    sum_mat_x_nul_xtran = sum_mat_x_nul_xtran + matrix_x_mul\n",
    "    \n",
    "    matrix_xy_mul = np.dot(matrix_x,matrix_y)\n",
    "    sum_mat_x_nul_y = sum_mat_x_nul_y + matrix_xy_mul\n",
    "    \n",
    "\n",
    "last_x = np.linalg.inv(sum_mat_x_nul_xtran)\n",
    "\n",
    "theta_hat = np.dot(last_x,sum_mat_x_nul_y)\n",
    "\n",
    "# man måste använda dot multiplication \n",
    "# man ska ha tre variablier i theta \n",
    "# man när man använder error **2 so det man måste ta transponat sen skalar prodcut "
   ]
  },
  {
   "cell_type": "code",
   "execution_count": 8,
   "metadata": {
    "cell_id": "0b7f393993d94f0f90d9f0ccd44d5103",
    "deepnote_cell_type": "code",
    "deepnote_to_be_reexecuted": false,
    "execution_millis": 27,
    "execution_start": 1694615112678,
    "source_hash": "a8cb3ff7"
   },
   "outputs": [
    {
     "name": "stdout",
     "output_type": "stream",
     "text": [
      "[0.47242136 0.06757776 0.01840679]\n"
     ]
    }
   ],
   "source": [
    "print(theta_hat)"
   ]
  },
  {
   "cell_type": "code",
   "execution_count": 9,
   "metadata": {
    "cell_id": "2bbc69ef47c14ea9913b25d4e55b1c6d",
    "deepnote_cell_type": "code",
    "deepnote_to_be_reexecuted": false,
    "deletable": false,
    "execution_millis": 12,
    "execution_start": 1694615112679,
    "nbgrader": {
     "cell_type": "code",
     "checksum": "4d560f1336b21bf61daad0b17dbb46d5",
     "grade": false,
     "grade_id": "cell-de4fbd16946a9b3e",
     "locked": false,
     "schema_version": 3,
     "solution": true,
     "task": false
    },
    "source_hash": "a90e0cb6"
   },
   "outputs": [
    {
     "name": "stdout",
     "output_type": "stream",
     "text": [
      "Estimated mass =  0.472  and true  =  0.5\n",
      "Estimated length =  0.143  and true value =  0.15\n",
      "Estimated moment of inertia =  0.009  and true value =  0.006\n"
     ]
    }
   ],
   "source": [
    "#Answer: \n",
    "\n",
    "x = theta_hat[0]\n",
    "y = theta_hat[1]\n",
    "z = theta_hat[2]\n",
    "\n",
    "\n",
    "est_m1 = x # 0.449\n",
    "est_l = y/x # 0.132\n",
    "est_I1 = z - ((y**2)/x) # 0.011\n",
    "\n",
    "print('Estimated mass = ', np.round(est_m1, 3), ' and true  = ', robot.p['m1'])\n",
    "print('Estimated length = ', np.round(est_l, 3), ' and true value = ', robot.p['l'])\n",
    "print('Estimated moment of inertia = ', np.round(est_I1, 3), ' and true value = ', robot.p['I1'])\n",
    "\n"
   ]
  },
  {
   "cell_type": "code",
   "execution_count": 10,
   "metadata": {
    "cell_id": "1f1292514cf04f538ffedbf7118ae460",
    "deepnote_cell_type": "code",
    "deepnote_to_be_reexecuted": false,
    "deletable": false,
    "editable": false,
    "execution_millis": 12,
    "execution_start": 1694615112680,
    "nbgrader": {
     "cell_type": "code",
     "checksum": "12d1fc536527db4f190154718e20fbdc",
     "grade": true,
     "grade_id": "cell-82dfd2b89a20d09d",
     "locked": true,
     "points": 1,
     "schema_version": 3,
     "solution": false,
     "task": false
    },
    "source_hash": "b623e53d"
   },
   "outputs": [],
   "source": []
  },
  {
   "cell_type": "markdown",
   "metadata": {
    "cell_id": "4f53d74c8cdf4c0d91b3a31835b49593",
    "deepnote_cell_type": "markdown",
    "deletable": false,
    "editable": false,
    "nbgrader": {
     "cell_type": "markdown",
     "checksum": "bfe5e161c535f0b508c3a74b2067440f",
     "grade": false,
     "grade_id": "cell-e449dd3a384fe8c8",
     "locked": true,
     "schema_version": 3,
     "solution": false,
     "task": false
    }
   },
   "source": [
    "## Exercise 4: Calculate the cost function \n",
    "\n",
    "When solving the linear regression problem we minimize a cost function $J(\\theta) = \\frac{1}{2 n} \\sum_{i=1}^n \\varepsilon_i^2$. Calculate the value of the cost function on the saved data with the parameters estimated. \n",
    "\n",
    "Hint: n = n_steps."
   ]
  },
  {
   "cell_type": "code",
   "execution_count": 10,
   "metadata": {
    "cell_id": "43b8eaa7bce244259e1a471d2921f851",
    "deepnote_cell_type": "code",
    "deepnote_to_be_reexecuted": false,
    "execution_millis": 98,
    "execution_start": 1694615112684,
    "source_hash": "6ea328e0"
   },
   "outputs": [],
   "source": [
    "co_val = 0\n",
    "# samma frågan här \n",
    "for i in range(n_steps):\n",
    "    matrix_x = np.array([[0, 0.0025 * dda2[i]],\n",
    "                         [0.05 * dda2[i] * np.cos(a1[i]) - 9.81 * np.sin(a1[i]), 0.05 * dda1[i] * np.cos(a1[i]) - 0.05 * np.sin(a1[i]) * (da1[i] ** 2)],\n",
    "                         [dda1[i], 0]])\n",
    "    matrix_y = np.array([M[i], -M[i]-0.00225 * dda2[i]])\n",
    "    \n",
    "    theta_trans = np.transpose(theta_hat)\n",
    "    thetatra_mul_x = np.dot(theta_trans,matrix_x)# kolla om det är matmul eller dot\n",
    "    error = matrix_y - thetatra_mul_x\n",
    "    error_trans = np.transpose(error)\n",
    "    errr_uptill2 = np.dot(error_trans,error)# error**2 #np.dot(error,error)\n",
    "    co_val = co_val + errr_uptill2\n",
    "    \n",
    "cost_value = co_val/n_steps"
   ]
  },
  {
   "cell_type": "code",
   "execution_count": 11,
   "metadata": {
    "cell_id": "912692d067c749bd91ec900cf3288253",
    "deepnote_cell_type": "code",
    "deepnote_to_be_reexecuted": false,
    "deletable": false,
    "execution_millis": 45,
    "execution_start": 1694615112824,
    "nbgrader": {
     "cell_type": "code",
     "checksum": "b3ee41cef849be430a097bfd5775d3b6",
     "grade": false,
     "grade_id": "cell-e127486213fb7576",
     "locked": false,
     "schema_version": 3,
     "solution": true,
     "task": false
    },
    "source_hash": "e136883"
   },
   "outputs": [
    {
     "name": "stdout",
     "output_type": "stream",
     "text": [
      "cost_value 0.0013367796260538034\n"
     ]
    }
   ],
   "source": [
    "#Answer: \n",
    "\n",
    "# cost_value = 0.005403973775531635\n",
    "# 0.0046975696794038695\n",
    "print('cost_value', cost_value)"
   ]
  },
  {
   "cell_type": "markdown",
   "metadata": {
    "cell_id": "d6d270064e5c42acb411941820510f2a",
    "deepnote_cell_type": "markdown",
    "deletable": false,
    "editable": false,
    "nbgrader": {
     "cell_type": "markdown",
     "checksum": "d0de9baace3b234360b6f62a8dd71915",
     "grade": false,
     "grade_id": "cell-a41f216351b18e46",
     "locked": true,
     "schema_version": 3,
     "solution": false,
     "task": false
    }
   },
   "source": [
    "## Exercise 5: Reference signal\n",
    "\n",
    "Try to change the position reference signal in the controller, try a few different ones and report the identified parameters and loss value below together with the function used. You only need to change pos_ref in the update function in the controller. \n",
    "\n",
    "Hint: Try more complex functions by stacking sinusoidal, e.g. $\\textit{pos_ref} = 0.2sin(2t) + 0.03cos(7t)$.\n"
   ]
  },
  {
   "cell_type": "markdown",
   "metadata": {
    "cell_id": "ff1dcad6fd9a4b3abf4b826b757ed637",
    "deepnote_cell_type": "markdown",
    "deletable": false,
    "nbgrader": {
     "cell_type": "markdown",
     "checksum": "2e8e45bf159fbfb3701419c7268f0c19",
     "grade": true,
     "grade_id": "cell-6fab05ba80dbc559",
     "locked": false,
     "points": 1,
     "schema_version": 3,
     "solution": true,
     "task": false
    }
   },
   "source": [
    "Answer:\n",
    "\n",
    "| ref signal | cost function value | $m_1$ | l| $I_1$ |\n",
    "| --- | --- | --- | --- | --- |\n",
    "| 0 | 0.0046975696794038695 | 1.334 | 0 | 0.014 | \n",
    "| 0.2*np.sin(t*2) | 0.005403973775531635 | 0.449 | 0.132 | 0.011  | \n",
    "| 0.2sin(2t) + 0.03cos(7t) | 0.005555922628695368 | 0.475 | 0.141 | 0.007 | \n",
    "|0.2sin(2t) + 0.03cos(7t) +0.5sin(3t) + 0.08cos(4t) | 0.005781134771940516 | 0.501| 0.15 | 0.006 | "
   ]
  },
  {
   "cell_type": "markdown",
   "metadata": {
    "cell_id": "0f40df9906e64b2baa93d7cc7c0d6c59",
    "deepnote_cell_type": "markdown",
    "deletable": false,
    "editable": false,
    "nbgrader": {
     "cell_type": "markdown",
     "checksum": "c4368b063affa6c7ca2aa0b182767066",
     "grade": false,
     "grade_id": "cell-d7cb19d591af7c90",
     "locked": true,
     "schema_version": 3,
     "solution": false,
     "task": false
    }
   },
   "source": [
    "## Exercise 6: Analyse cost function and reference signals. \n",
    "\n",
    "1. How do more complex reference signals affect parameter estimation?\n",
    "2. Does the cost function value improve with better-identified parameters, why/why not?\n",
    "3. Could you keep making the reference signal more and more complex for better estimation or is there a limit, why?\n"
   ]
  },
  {
   "cell_type": "markdown",
   "metadata": {
    "cell_id": "23673a4f3edf4739ae3d674d65b717f2",
    "deepnote_cell_type": "markdown",
    "deletable": false,
    "nbgrader": {
     "cell_type": "markdown",
     "checksum": "0d1d9c091ee4568aa3c19bc2b6874d79",
     "grade": true,
     "grade_id": "cell-865a37da81c84c43",
     "locked": false,
     "points": 1,
     "schema_version": 3,
     "solution": true,
     "task": false
    }
   },
   "source": [
    "Answer:\n",
    "\n",
    "1 - When we impliment a much more complex reference signal we get the system to be much more dynamic and therefore we get to estimate the parameters much more accurate than a simple reference signal. \n",
    "\n",
    "2- To get more accurate parameters we used much more complix reference position signal. That leads to get a higher cost function value. \n",
    "\n",
    "\n",
    "3- No we can only improve the estimation accuracy of our parameters up to a certain point. There is a limit to how complix reference signal can be helpfull. The complix signal should be related to the computational resources we have. If we exceed the limits of our algorithm and computational resources the limit may lead to unaccurate results and estimations. That is why it is so important to think about the complix reference signal and its trade-off with the estimation accuracy\n",
    "\n",
    "\n"
   ]
  },
  {
   "cell_type": "markdown",
   "metadata": {
    "cell_id": "f79fcf4cfc9f42b7a0a1e3337ae8c4e2",
    "deepnote_cell_type": "markdown",
    "deletable": false,
    "editable": false,
    "nbgrader": {
     "cell_type": "markdown",
     "checksum": "435af20647bf45ab321ffe507b0999f9",
     "grade": false,
     "grade_id": "cell-806af6fd0f12c346",
     "locked": true,
     "schema_version": 3,
     "solution": false,
     "task": false
    }
   },
   "source": [
    " ## Exercise 7:  Noise"
   ]
  },
  {
   "cell_type": "markdown",
   "metadata": {
    "cell_id": "3f39f13925bc45e7a28680f8c47054b5",
    "deepnote_cell_type": "markdown",
    "deletable": false,
    "editable": false,
    "nbgrader": {
     "cell_type": "markdown",
     "checksum": "cae5550be9d029174d7e9318f2b2980e",
     "grade": false,
     "grade_id": "cell-a003cd784957e7b9",
     "locked": true,
     "schema_version": 3,
     "solution": false,
     "task": false
    }
   },
   "source": [
    "Explore how the noise levels added before the data collection affects the identification results and also the value of the cost function. Why is it that the cost function reacts differently compared to exercise 5? Use the position reference signal with the best parameter identification from exercise 5."
   ]
  },
  {
   "cell_type": "markdown",
   "metadata": {
    "cell_id": "809180b161b94ff3b96bfe1b9d53c759",
    "deepnote_cell_type": "markdown",
    "deletable": false,
    "nbgrader": {
     "cell_type": "markdown",
     "checksum": "0a401b228ea0990eaf6f0d6258163cf1",
     "grade": true,
     "grade_id": "cell-a786d39416b80c66",
     "locked": false,
     "points": 1,
     "schema_version": 3,
     "solution": true,
     "task": false
    }
   },
   "source": [
    "Answer: \n",
    "The higher the scale noise is gives us a much more larger variance in our system which leads to an unaccurate estimation of our cost function value. \n",
    "\n",
    "\n",
    "$\\textit{pos_ref} = $\n",
    "\n",
    "| scale_noise | cost function value | $m_1$ | l| $I_1$ |\n",
    "| --- | --- | --- | --- | --- |\n",
    "| 0.1 | 5.193728528232166e-05   | 0.501  | 0.149 | 0.006  | \n",
    "| 0.5 | 0.0014054455448360413   | 0.499  |0.136  | 0.01   | \n",
    "| 1   | 0.005453426231777198    | 0.453  | 0.128 | 0.012  | \n",
    "| 2   | 0.0046975696794038695   | 0.46   | 0.064 | 0.023  | \n",
    "| 10  |  0.500766498937574      | 0.441  | 0.004 | 0.031  | \n"
   ]
  },
  {
   "cell_type": "markdown",
   "metadata": {
    "created_in_deepnote_cell": true,
    "deepnote_cell_type": "markdown"
   },
   "source": [
    "<a style='text-decoration:none;line-height:16px;display:flex;color:#5B5B62;padding:10px;justify-content:end;' href='https://deepnote.com?utm_source=created-in-deepnote-cell&projectId=568610fc-9ec2-4154-9999-7e2bc7592f65' target=\"_blank\">\n",
    "<img alt='Created in deepnote.com' style='display:inline;max-height:16px;margin:0px;margin-right:7.5px;' src='data:image/svg+xml;base64,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' > </img>\n",
    "Created in <span style='font-weight:600;margin-left:4px;'>Deepnote</span></a>"
   ]
  }
 ],
 "metadata": {
  "deepnote": {},
  "deepnote_execution_queue": [],
  "deepnote_notebook_id": "1fba8cc2ba1e485582c867371e294928",
  "kernelspec": {
   "display_name": "Python 3 (ipykernel)",
   "language": "python",
   "name": "python3"
  },
  "language_info": {
   "codemirror_mode": {
    "name": "ipython",
    "version": 3
   },
   "file_extension": ".py",
   "mimetype": "text/x-python",
   "name": "python",
   "nbconvert_exporter": "python",
   "pygments_lexer": "ipython3",
   "version": "3.11.5"
  }
 },
 "nbformat": 4,
 "nbformat_minor": 4
}
